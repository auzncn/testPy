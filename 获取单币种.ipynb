{
 "cells": [
  {
   "cell_type": "code",
   "execution_count": 12,
   "id": "578cc81c",
   "metadata": {},
   "outputs": [
    {
     "name": "stdout",
     "output_type": "stream",
     "text": [
      "          Datetime    Open    High     Low   Close        Vol      Symbol\n",
      "0    1675702800000  1.9691  2.0128  1.9587  2.0128   834416.6  MAGIC/USDT\n",
      "1    1675706400000  2.0125  2.0125  1.9824  1.9940   492441.9  MAGIC/USDT\n",
      "2    1675710000000  1.9930  1.9974  1.9546  1.9682   605412.9  MAGIC/USDT\n",
      "3    1675713600000  1.9682  1.9909  1.9558  1.9898   374935.0  MAGIC/USDT\n",
      "4    1675717200000  1.9895  1.9910  1.9237  1.9434   733823.7  MAGIC/USDT\n",
      "..             ...     ...     ...     ...     ...        ...         ...\n",
      "995  1679284800000  1.7280  1.7623  1.6976  1.7563  1816104.9  MAGIC/USDT\n",
      "996  1679288400000  1.7563  1.7727  1.7530  1.7603  1025436.7  MAGIC/USDT\n",
      "997  1679292000000  1.7604  1.7716  1.7344  1.7613  1562884.0  MAGIC/USDT\n",
      "998  1679295600000  1.7614  1.8226  1.7589  1.8149  1735354.7  MAGIC/USDT\n",
      "999  1679299200000  1.8149  1.8297  1.7751  1.7821  1099413.2  MAGIC/USDT\n",
      "\n",
      "[1000 rows x 7 columns]\n"
     ]
    },
    {
     "data": {
      "text/html": [
       "<div>\n",
       "<style scoped>\n",
       "    .dataframe tbody tr th:only-of-type {\n",
       "        vertical-align: middle;\n",
       "    }\n",
       "\n",
       "    .dataframe tbody tr th {\n",
       "        vertical-align: top;\n",
       "    }\n",
       "\n",
       "    .dataframe thead th {\n",
       "        text-align: right;\n",
       "    }\n",
       "</style>\n",
       "<table border=\"1\" class=\"dataframe\">\n",
       "  <thead>\n",
       "    <tr style=\"text-align: right;\">\n",
       "      <th></th>\n",
       "      <th>Datetime</th>\n",
       "      <th>Open</th>\n",
       "      <th>High</th>\n",
       "      <th>Low</th>\n",
       "      <th>Close</th>\n",
       "      <th>Vol</th>\n",
       "      <th>Symbol</th>\n",
       "      <th>ema_12</th>\n",
       "      <th>ema_144</th>\n",
       "      <th>ema_169</th>\n",
       "      <th>ema_576</th>\n",
       "      <th>ema_676</th>\n",
       "      <th>ema_12_lag</th>\n",
       "      <th>ema_144_lag</th>\n",
       "      <th>is_bullish</th>\n",
       "    </tr>\n",
       "  </thead>\n",
       "  <tbody>\n",
       "  </tbody>\n",
       "</table>\n",
       "</div>"
      ],
      "text/plain": [
       "Empty DataFrame\n",
       "Columns: [Datetime, Open, High, Low, Close, Vol, Symbol, ema_12, ema_144, ema_169, ema_576, ema_676, ema_12_lag, ema_144_lag, is_bullish]\n",
       "Index: []"
      ]
     },
     "execution_count": 12,
     "metadata": {},
     "output_type": "execute_result"
    }
   ],
   "source": [
    "import numpy as np\n",
    "import pandas as pd\n",
    "import ccxt\n",
    "import time\n",
    "import dateutil\n",
    "\n",
    "# define the market\n",
    "exchange_f = ccxt.binance({\n",
    "    'proxies': {\n",
    "        'http': 'http://localhost:1080',\n",
    "        'https': 'http://localhost:1080',\n",
    "    },\n",
    "})\n",
    "\n",
    "symbol = 'USDS/USDT'\n",
    "timeframe = \"1h\"\n",
    "limit = 1000\n",
    "df = pd.DataFrame(exchange_f.fetch_ohlcv(symbol, timeframe=timeframe, limit=limit))\n",
    "df['symbol'] = symbol\n",
    "df.columns = ['Datetime', 'Open', 'High', 'Low', 'Close', 'Vol', 'Symbol']\n",
    "print(df)\n",
    "\n",
    "df['Datetime'] = df['Datetime'].apply(\n",
    "    lambda x: time.strftime('%Y-%m-%d %H:%M:%S', time.gmtime(x / 1000.)))\n",
    "\n",
    "df['ema_12'] = df['Close'].ewm(span=12, adjust=False).mean()\n",
    "df['ema_144'] = df['Close'].ewm(span=144, adjust=False).mean()\n",
    "df['ema_169'] = df['Close'].ewm(span=169, adjust=False).mean()\n",
    "df['ema_576'] = df['Close'].ewm(span=576, adjust=False).mean()\n",
    "df['ema_676'] = df['Close'].ewm(span=676, adjust=False).mean()\n",
    "\n",
    "df['ema_12_lag'] = df['ema_12'].shift(1)\n",
    "df['ema_144_lag'] = df['ema_144'].shift(1)\n",
    "\n",
    "# Check if the conditions for a bullish trend are met\n",
    "is_bullish_trend = (\n",
    "    (df['ema_12_lag'] < df['ema_144_lag'])\n",
    "    & (\n",
    "        (df['Close'] > df['ema_12'])\n",
    "        & (df['ema_12'] > df['ema_144'])\n",
    "        & (df['ema_144'] > df['ema_169'])\n",
    "        & (df['ema_169'] > df['ema_576'])\n",
    "        & (df['ema_576'] > df['ema_676'])\n",
    "    )\n",
    ")\n",
    "\n",
    "# Update the 'is_bullish' column\n",
    "df.loc[is_bullish_trend, 'is_bullish'] = True\n",
    "\n",
    "df[df['is_bullish']==True]"
   ]
  },
  {
   "cell_type": "code",
   "execution_count": null,
   "id": "d3055955",
   "metadata": {},
   "outputs": [],
   "source": []
  }
 ],
 "metadata": {
  "kernelspec": {
   "display_name": "Python 3",
   "language": "python",
   "name": "python3"
  },
  "language_info": {
   "codemirror_mode": {
    "name": "ipython",
    "version": 3
   },
   "file_extension": ".py",
   "mimetype": "text/x-python",
   "name": "python",
   "nbconvert_exporter": "python",
   "pygments_lexer": "ipython3",
   "version": "3.10.10"
  },
  "toc": {
   "base_numbering": 1,
   "nav_menu": {},
   "number_sections": true,
   "sideBar": true,
   "skip_h1_title": false,
   "title_cell": "Table of Contents",
   "title_sidebar": "Contents",
   "toc_cell": false,
   "toc_position": {},
   "toc_section_display": true,
   "toc_window_display": false
  },
  "vscode": {
   "interpreter": {
    "hash": "1c9bf979edb39d073c663d4ea38bf17c5c5eba89f17b861392aa37e6046a8b31"
   }
  }
 },
 "nbformat": 4,
 "nbformat_minor": 5
}
