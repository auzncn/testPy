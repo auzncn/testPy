{
 "cells": [
  {
   "cell_type": "code",
   "execution_count": 17,
   "id": "057b8f47",
   "metadata": {},
   "outputs": [
    {
     "name": "stderr",
     "output_type": "stream",
     "text": [
      "IOPub data rate exceeded.\n",
      "The notebook server will temporarily stop sending output\n",
      "to the client in order to avoid crashing it.\n",
      "To change this limit, set the config variable\n",
      "`--NotebookApp.iopub_data_rate_limit`.\n",
      "\n",
      "Current values:\n",
      "NotebookApp.iopub_data_rate_limit=1000000.0 (bytes/sec)\n",
      "NotebookApp.rate_limit_window=3.0 (secs)\n",
      "\n"
     ]
    }
   ],
   "source": [
    "import ccxt\n",
    "import pandas as pd\n",
    "\n",
    "# 初始化交易所\n",
    "exchange = ccxt.binance({\n",
    "    'proxies': {\n",
    "        'http': 'http://localhost:1080',\n",
    "        'https': 'http://localhost:1080',\n",
    "    },\n",
    "})\n",
    "\n",
    "# 获取所有交易对信息\n",
    "markets = exchange.load_markets()\n",
    "print(markets)\n",
    "# 创建币对列表\n",
    "symbols = []\n",
    "\n",
    "# 筛选符合要求的币对\n",
    "for symbol in markets:\n",
    "    # 确定币对交易所是Binance，且为USDT交易对\n",
    "    if 'binance' in symbol and '/USDT' in symbol:\n",
    "        # 获取k线数据\n",
    "        data = exchange.fetch_ohlcv(symbol, '4h')\n",
    "        print(data)\n",
    "\n",
    "        # 把数据放入pandas的DataFrame中\n",
    "        df = pd.DataFrame(data, columns=['timestamp', 'open', 'high', 'low', 'close', 'volume'])\n",
    "\n",
    "        # 计算 EMA 12，144 和 169\n",
    "        df['ema12'] = df['close'].ewm(span=12, adjust=False).mean()\n",
    "        df['ema144'] = df['close'].ewm(span=144, adjust=False).mean()\n",
    "        df['ema169'] = df['close'].ewm(span=169, adjust=False).mean()\n",
    "\n",
    "        # 检查最后一条K线，是否符合EMA策略\n",
    "        if df['ema12'].iloc[-1] > df['ema144'].iloc[-1] > df['ema169'].iloc[-1]:\n",
    "            symbols.append(symbol)\n",
    "\n",
    "# 输出符合要求的币对\n",
    "print(symbols)\n"
   ]
  },
  {
   "cell_type": "code",
   "execution_count": null,
   "id": "e47fedf8",
   "metadata": {},
   "outputs": [],
   "source": []
  }
 ],
 "metadata": {
  "kernelspec": {
   "display_name": "Python 3 (ipykernel)",
   "language": "python",
   "name": "python3"
  },
  "language_info": {
   "codemirror_mode": {
    "name": "ipython",
    "version": 3
   },
   "file_extension": ".py",
   "mimetype": "text/x-python",
   "name": "python",
   "nbconvert_exporter": "python",
   "pygments_lexer": "ipython3",
   "version": "3.10.10"
  },
  "toc": {
   "base_numbering": 1,
   "nav_menu": {},
   "number_sections": true,
   "sideBar": true,
   "skip_h1_title": false,
   "title_cell": "Table of Contents",
   "title_sidebar": "Contents",
   "toc_cell": false,
   "toc_position": {},
   "toc_section_display": true,
   "toc_window_display": false
  }
 },
 "nbformat": 4,
 "nbformat_minor": 5
}
